{
  "nbformat": 4,
  "nbformat_minor": 0,
  "metadata": {
    "colab": {
      "provenance": [],
      "authorship_tag": "ABX9TyP2lfb0k8MMG/Fdpwx/QHHY",
      "include_colab_link": true
    },
    "kernelspec": {
      "name": "python3",
      "display_name": "Python 3"
    },
    "language_info": {
      "name": "python"
    }
  },
  "cells": [
    {
      "cell_type": "markdown",
      "metadata": {
        "id": "view-in-github",
        "colab_type": "text"
      },
      "source": [
        "<a href=\"https://colab.research.google.com/github/SouvikChakraborty472/Python/blob/main/Python_Theories.ipynb\" target=\"_parent\"><img src=\"https://colab.research.google.com/assets/colab-badge.svg\" alt=\"Open In Colab\"/></a>"
      ]
    },
    {
      "cell_type": "markdown",
      "source": [
        "**Python Theories**"
      ],
      "metadata": {
        "id": "oOPcjbtvZEcy"
      }
    },
    {
      "cell_type": "markdown",
      "source": [
        "**Introduction**\n",
        "\n",
        "Python was created in the late 1980s by Guido van Rossum, a Dutch programmer. It was first released in 1991 as Python 0.9.0. Python's design philosophy emphasizes readability and simplicity, with a clear and intuitive syntax. Over the years, Python gained popularity due to its versatility and an active open-source community.\n",
        "\n",
        "Major milestones include Python 2.0 (2000) with garbage collection and Unicode support, and Python 3.0 (2008), which introduced backward-incompatible changes for a cleaner language. Despite initial resistance to migrating from Python 2 to 3, the transition was successful, and Python 3 is now the dominant version. Python is widely used in web development, data science, machine learning, and automation.\n",
        "\n",
        "Python is a versatile, high-level programming language known for its simplicity and readability. It emphasizes clean, concise code and has a vast ecosystem of libraries and frameworks. Python is used in web development, data analysis, machine learning, automation, and more, making it a popular choice for developers."
      ],
      "metadata": {
        "id": "8tX8JAFiaNkq"
      }
    },
    {
      "cell_type": "markdown",
      "source": [
        "**Features**\n",
        "\n",
        "1. **Readable and Understandable**: Python emphasizes code readability with a clean and easy-to-follow syntax. This reduces the cost of program maintenance and encourages collaboration among developers.\n",
        "\n",
        "2. **Interpreted Language**: Python is an interpreted language, meaning that code can be executed line by line, making it suitable for rapid development and debugging.\n",
        "\n",
        "3. **Cross-Platform Compatibility**: Python is available on multiple platforms, including Windows, macOS, and Linux. This cross-platform compatibility ensures that code can run on different operating systems without modification.\n",
        "\n",
        "4. **Dynamic Typing**: Python uses dynamic typing, allowing variables to change types during runtime. This flexibility simplifies code development and makes it more concise.\n",
        "\n",
        "5. **High-Level Language**: Python provides high-level abstractions, simplifying complex tasks such as memory management and low-level operations. This allows developers to focus on problem-solving rather than dealing with low-level details.\n",
        "\n",
        "6. **Large Standard Library**: Python includes a comprehensive standard library with modules for tasks like file I/O, regular expressions, networking, and more. This library reduces the need for external dependencies and accelerates development."
      ],
      "metadata": {
        "id": "72nRHZWzbC2c"
      }
    },
    {
      "cell_type": "markdown",
      "source": [
        "**Application**\n",
        "\n",
        "1. **Web Development**:\n",
        "   Python is widely used for building web applications and websites. Frameworks like Django and Flask make it easy to create scalable and secure web applications. Python's simplicity and readability, along with its extensive libraries, make it a preferred choice for web developers.\n",
        "\n",
        "2. **Data Science and Machine Learning**:\n",
        "   Python is a go-to language for data scientists and machine learning engineers. Libraries like NumPy, pandas, Matplotlib, and scikit-learn provide powerful tools for data analysis, manipulation, visualization, and machine learning. Frameworks like TensorFlow and PyTorch are widely used for deep learning and neural network development.\n",
        "\n",
        "3. **Scientific Computing**:\n",
        "   Python is popular in the scientific community for its ability to handle complex mathematical and scientific computations. Libraries like SciPy, SymPy, and specialized tools such as Jupyter Notebooks make it a valuable tool for scientific research, simulations, and data analysis.\n",
        "\n",
        "4. **Automation and Scripting**:\n",
        "   Python is an excellent choice for automation and scripting tasks. Its clean and readable syntax, along with modules like os and shutil, allows developers to automate repetitive tasks, manage files, and interact with the operating system. It's commonly used in system administration and DevOps.\n",
        "\n",
        "5. **Game Development and Graphics**:\n",
        "   Python can be used for developing games and graphical applications. Libraries like Pygame provide game development capabilities, while libraries like PyOpenGL allow for 3D graphics programming. Python's ease of use makes it a suitable choice for game prototyping and development."
      ],
      "metadata": {
        "id": "QuwQw4wtha37"
      }
    },
    {
      "cell_type": "markdown",
      "source": [
        "**IDE (Intregrated Development Environment)**\n",
        "\n",
        "An Integrated Development Environment (IDE) in Python is a software tool that provides a comprehensive environment for coding, testing, and debugging Python programs. It typically includes features like code editors, syntax highlighting, debugging tools, and integrated documentation, streamlining the development process for Python software and applications."
      ],
      "metadata": {
        "id": "hbuT9ebvqhqw"
      }
    },
    {
      "cell_type": "markdown",
      "source": [
        "**First Program in Python**"
      ],
      "metadata": {
        "id": "-jqiqyKArVC2"
      }
    },
    {
      "cell_type": "code",
      "source": [
        "# This is a comment in Python. Comments are for documentation and are not executed by the program.\n",
        "\n",
        "# The following line is a Python statement that prints the text \"Hello, World!\" to the console.\n",
        "print(\"Hello, World!\")"
      ],
      "metadata": {
        "id": "BClKU_-rsd_D",
        "outputId": "1e0440dd-5752-4d84-cffc-eea36b779ad3",
        "colab": {
          "base_uri": "https://localhost:8080/"
        }
      },
      "execution_count": null,
      "outputs": [
        {
          "output_type": "stream",
          "name": "stdout",
          "text": [
            "Hello, World!\n"
          ]
        }
      ]
    },
    {
      "cell_type": "markdown",
      "source": [
        "Now, let's break down the code:\n",
        "\n",
        "1. `# This is a comment in Python.`: Comments in Python start with a `#` symbol. They are ignored by the Python interpreter and are used for adding explanations and documentation to the code. Comments are not executed.\n",
        "\n",
        "2. `print(\"Hello, World!\")`: This is the actual Python code that performs an action. In this case, it uses the `print` function to output the text \"Hello, World!\" to the console. The `print` function is built into Python and is used for displaying information to the user.\n",
        "\n",
        "When you run this program, it will execute the `print` statement, and you will see \"Hello, World!\" printed to the console."
      ],
      "metadata": {
        "id": "-AuSg2qls0wP"
      }
    },
    {
      "cell_type": "markdown",
      "source": [
        "**Literals in Python**\n",
        "\n",
        "In Python, a literal is a notation that represents a specific value within your source code. Literals are used to express values of various data types directly in your code. Here are some common types of literals in Python along with examples and explanations:\n",
        "\n",
        "1. **Integer Literals:**\n",
        "   Integer literals are used to represent whole numbers without a decimal point. They can be written in decimal (base 10), binary (base 2), octal (base 8), or hexadecimal (base 16) format.\n",
        "\n",
        "   Examples:\n",
        "\n",
        "   - Decimal integer: `42`\n",
        "   - Binary integer: `0b1010` (10 in binary)\n",
        "   - Octal integer: `0o52` (42 in octal)\n",
        "   - Hexadecimal integer: `0x2A` (42 in hexadecimal)\n",
        "\n",
        "2. **Floating-Point Literals:**\n",
        "   Floating-point literals are used to represent real numbers with a decimal point.\n",
        "\n",
        "   Example:\n",
        "\n",
        "   - Floating-point number: `3.14`\n",
        "\n",
        "3. **String Literals:**\n",
        "   String literals are used to represent sequences of characters enclosed in single (' ') or double (\" \") quotes.\n",
        "\n",
        "   Examples:\n",
        "\n",
        "   - Single-quoted string: `'Hello, World!'`\n",
        "   - Double-quoted string: `\"Python is awesome!\"`\n",
        "\n",
        "4. **Boolean Literals:**\n",
        "   Boolean literals represent one of two values: `True` or `False`.\n",
        "\n",
        "   Examples:\n",
        "\n",
        "   - `True`\n",
        "   - `False`\n",
        "\n",
        "5. **None Literal:**\n",
        "   The `None` literal represents the absence of a value. It is often used to indicate that a variable has no value assigned to it.\n",
        "\n",
        "   Example:\n",
        "\n",
        "   - `None`\n",
        "\n",
        "6. **List Literals:**\n",
        "   List literals are used to represent ordered collections of values enclosed in square brackets `[]`.\n",
        "\n",
        "   Example:\n",
        "\n",
        "   - List of integers: `[1, 2, 3, 4]`\n",
        "\n",
        "7. **Tuple Literals:**\n",
        "   Tuple literals represent ordered collections of values enclosed in parentheses `()`.\n",
        "\n",
        "   Example:\n",
        "\n",
        "   - Tuple of mixed data types: `(\"apple\", 3.14, True)`\n",
        "\n",
        "8. **Dictionary Literals:**\n",
        "   Dictionary literals are used to represent key-value pairs enclosed in curly braces `{}`.\n",
        "\n",
        "   Example:\n",
        "\n",
        "   - Dictionary of person's information: `{\"name\": \"Alice\", \"age\": 30, \"city\": \"New York\"}`\n",
        "\n",
        "9. **Set Literals:**\n",
        "   Set literals represent an unordered collection of unique values enclosed in curly braces `{}`. Introduced in Python 3.0.\n",
        "\n",
        "   Example:\n",
        "\n",
        "   - Set of integers: `{1, 2, 3, 4, 5}`\n",
        "\n",
        "10. **Complex Literals:**\n",
        "    Complex literals are used to represent complex numbers in the form `real + imagj`, where `real` and `imag` are floating-point values.\n",
        "\n",
        "    Example:\n",
        "\n",
        "    - Complex number: `3 + 2j`\n",
        "\n",
        "These literals play a fundamental role in Python programming as they allow you to directly specify values for various data types, making your code more readable and expressive."
      ],
      "metadata": {
        "id": "cX2AXhlf3_Zm"
      }
    },
    {
      "cell_type": "markdown",
      "source": [
        "**Data Types in Python**"
      ],
      "metadata": {
        "id": "hTY84auMvl3e"
      }
    },
    {
      "cell_type": "markdown",
      "source": [
        "Python is a dynamically typed language, which means that you don't need to declare the data type of a variable explicitly; Python will determine the data type for you. Here are some of the most common data types in Python:\n",
        "\n",
        "1. **Integers (int):** Integers are whole numbers, both positive and negative, without a decimal point. They can be represented using the `int` data type. For example:"
      ],
      "metadata": {
        "id": "igK8ZJKnvtyV"
      }
    },
    {
      "cell_type": "code",
      "source": [
        "x = 5\n",
        "y = -10"
      ],
      "metadata": {
        "id": "fwC5jPyNv7EL"
      },
      "execution_count": null,
      "outputs": []
    },
    {
      "cell_type": "markdown",
      "source": [
        "2. **Floating-Point Numbers (float):** Floating-point numbers, or floats, are numbers with decimal points or in scientific notation. They are represented using the `float` data type. For example:"
      ],
      "metadata": {
        "id": "qiP5s5mHwBk2"
      }
    },
    {
      "cell_type": "code",
      "source": [
        "pi = 3.14159\n",
        "e = 2.71828"
      ],
      "metadata": {
        "id": "tavqv4SVwPBl"
      },
      "execution_count": null,
      "outputs": []
    },
    {
      "cell_type": "markdown",
      "source": [
        "3. **Strings (str):** Strings are sequences of characters and are enclosed in either single (' ') or double (\" \") quotes. For example:"
      ],
      "metadata": {
        "id": "wsYZr2obwUse"
      }
    },
    {
      "cell_type": "code",
      "source": [
        "name = \"Alice\"\n",
        "sentence = 'Hello, World!'"
      ],
      "metadata": {
        "id": "LnYfSh0kwdfP"
      },
      "execution_count": null,
      "outputs": []
    },
    {
      "cell_type": "markdown",
      "source": [
        "4. **Booleans (bool):** Booleans represent binary values, either `True` or `False`. They are often used for conditional statements and comparisons. For example:"
      ],
      "metadata": {
        "id": "fCeqxe-8weTM"
      }
    },
    {
      "cell_type": "code",
      "source": [
        "is_true = True\n",
        "is_false = False"
      ],
      "metadata": {
        "id": "pKSczHpOwnuq"
      },
      "execution_count": null,
      "outputs": []
    },
    {
      "cell_type": "markdown",
      "source": [
        "5. **Lists:** Lists are ordered collections of elements that can contain items of different data types. They are represented using square brackets `[]`. For example:"
      ],
      "metadata": {
        "id": "lKH6UkC7woWL"
      }
    },
    {
      "cell_type": "code",
      "source": [
        "fruits = ['apple', 'banana', 'cherry']\n",
        "numbers = [1, 2, 3, 4, 5]\n",
        "mixed_list = [1, 'apple', True, 3.14]"
      ],
      "metadata": {
        "id": "m9gB8eWIwy2D"
      },
      "execution_count": null,
      "outputs": []
    },
    {
      "cell_type": "markdown",
      "source": [
        "6. **Tuples:** Tuples are similar to lists, but they are immutable, which means you can't change their elements after creation. They are represented using parentheses `()`. For example:"
      ],
      "metadata": {
        "id": "uJjK9engwzPN"
      }
    },
    {
      "cell_type": "code",
      "source": [
        "coordinates = (3, 4)\n",
        "colors = ('red', 'green', 'blue')"
      ],
      "metadata": {
        "id": "Rxq8iGbsxFna"
      },
      "execution_count": null,
      "outputs": []
    },
    {
      "cell_type": "markdown",
      "source": [
        "7. Dictionaries (dict): Dictionaries are collections of key-value pairs. They are unordered and use curly braces {}. For example:"
      ],
      "metadata": {
        "id": "2snBeyuHxYBO"
      }
    },
    {
      "cell_type": "code",
      "source": [
        "person = {'name': 'John', 'age': 30, 'city': 'New York'}\n",
        "car = {'brand': 'Ford', 'model': 'Mustang', 'year': 2022}"
      ],
      "metadata": {
        "id": "eZgDhFGexdpy"
      },
      "execution_count": null,
      "outputs": []
    },
    {
      "cell_type": "markdown",
      "source": [
        "8. Sets: Sets are unordered collections of unique elements. They are represented using curly braces {} or with the set() constructor. For example:"
      ],
      "metadata": {
        "id": "0er4BW-txh0u"
      }
    },
    {
      "cell_type": "code",
      "source": [
        "unique_numbers = {1, 2, 3, 4, 5}\n",
        "letters = set('abcdefg')"
      ],
      "metadata": {
        "id": "SZGEepH_xnOl"
      },
      "execution_count": null,
      "outputs": []
    },
    {
      "cell_type": "markdown",
      "source": [
        "9. NoneType (None): None is a special data type in Python that represents the absence of a value. It's often used to initialize variables or indicate that a function does not return a value."
      ],
      "metadata": {
        "id": "GOGBLGK1xq1T"
      }
    },
    {
      "cell_type": "code",
      "source": [
        "result = None"
      ],
      "metadata": {
        "id": "9x1ZYnISxwbA"
      },
      "execution_count": null,
      "outputs": []
    },
    {
      "cell_type": "markdown",
      "source": [
        "In Python, type conversion allows you to convert one data type to another. Type conversions can be categorized into two main types: implicit (automatic) type conversion and explicit (manual) type conversion.\n",
        "\n",
        "1. Implicit (Automatic) Type Conversion:\n",
        "Implicit type conversion occurs automatically when Python converts one data type to another without the programmer's intervention. This happens when an operation between two different data types is performed, and Python converts one of the operands to a more \"complex\" data type to perform the operation. The goal is to avoid data loss.\n",
        "\n",
        "Example:"
      ],
      "metadata": {
        "id": "NxBE-k3yyXD7"
      }
    },
    {
      "cell_type": "code",
      "source": [
        "x = 5  # Integer\n",
        "y = 2.5  # Float\n",
        "result = x + y  # The addition requires implicit conversion of 'x' to float\n",
        "result"
      ],
      "metadata": {
        "id": "oQwzq5tdyZ9O",
        "outputId": "4763547f-6992-401e-c5df-b9af921f1a5c",
        "colab": {
          "base_uri": "https://localhost:8080/"
        }
      },
      "execution_count": null,
      "outputs": [
        {
          "output_type": "execute_result",
          "data": {
            "text/plain": [
              "7.5"
            ]
          },
          "metadata": {},
          "execution_count": 13
        }
      ]
    },
    {
      "cell_type": "markdown",
      "source": [
        "In this example, Python automatically converts the integer x to a float before performing the addition, resulting in a float value in the result.\n",
        "\n",
        "2. Explicit (Manual) Type Conversion:\n",
        "Explicit type conversion, also known as casting, occurs when the programmer explicitly instructs Python to convert a value from one data type to another using functions like int(), float(), str(), and others.\n",
        "\n",
        "Example:"
      ],
      "metadata": {
        "id": "SdmsHW46yeLL"
      }
    },
    {
      "cell_type": "code",
      "source": [
        "x = \"42\"  # String\n",
        "y = int(x)  # Explicitly convert 'x' to an integer using int()"
      ],
      "metadata": {
        "id": "jaJf_uanykOl"
      },
      "execution_count": null,
      "outputs": []
    },
    {
      "cell_type": "markdown",
      "source": [
        "In this example, the int() function is used to explicitly convert the string \"42\" to an integer, and the result is stored in y. Without this explicit conversion, x would have remained a string.\n",
        "\n",
        "Here are some examples of explicit type conversion functions:\n",
        "\n",
        "int(): Converts to an integer.\n",
        "\n",
        "float(): Converts to a floating-point number.\n",
        "\n",
        "str(): Converts to a string.\n",
        "\n",
        "list(): Converts to a list.\n",
        "\n",
        "tuple(): Converts to a tuple.\n",
        "\n",
        "bool(): Converts to a boolean."
      ],
      "metadata": {
        "id": "m8EBS25OyqIF"
      }
    },
    {
      "cell_type": "markdown",
      "source": [
        "**Variable in Python**"
      ],
      "metadata": {
        "id": "tjDMIuWnywZf"
      }
    },
    {
      "cell_type": "markdown",
      "source": [
        "In Python, variables are used to store and manage data. A variable is a name that refers to a value, allowing you to work with and manipulate that value in your code. Here's an explanation and some examples of variables in Python:\n",
        "\n",
        "1. **Variable Naming Rules:**\n",
        "    \n",
        "    Variable names must start with a letter (a-z, A-Z) or an underscore (_).\n",
        "\n",
        "    Variable names can contain letters, numbers (0-9), and underscores.\n",
        "    \n",
        "    Variable names are case-sensitive, meaning \"myVar\" and \"myvar\" are considered different variables.\n",
        "    \n",
        "    Python reserves certain keywords that cannot be used as variable names (e.g., if, while, for, print, etc.).\n",
        "\n",
        "2. **Variable Assignment:**\n",
        "You can assign a value to a variable using the assignment operator =.\n",
        "\n",
        "Example:"
      ],
      "metadata": {
        "id": "XVYhDco801Mo"
      }
    },
    {
      "cell_type": "code",
      "source": [
        "x = 10  # Assign the value 10 to the variable 'x'\n",
        "name = \"Alice\"  # Assign the string \"Alice\" to the variable 'name'"
      ],
      "metadata": {
        "id": "zmrXelZ_024Q"
      },
      "execution_count": null,
      "outputs": []
    },
    {
      "cell_type": "markdown",
      "source": [
        "3. **Variable Data Types:**\n",
        "In Python, variables are dynamically typed, meaning their data type is determined by the value they reference. You don't need to specify the data type explicitly.\n",
        "\n",
        "Example:"
      ],
      "metadata": {
        "id": "LeSRbm_x1f9a"
      }
    },
    {
      "cell_type": "code",
      "source": [
        "a = 5        # 'a' is an integer\n",
        "b = 3.14     # 'b' is a float\n",
        "c = \"Hello\"  # 'c' is a string"
      ],
      "metadata": {
        "id": "JrR5ODuQ2KfB"
      },
      "execution_count": null,
      "outputs": []
    },
    {
      "cell_type": "markdown",
      "source": [
        "4. **Variable Reassignment:**\n",
        "You can change the value of a variable by simply assigning a new value to it.\n",
        "\n",
        "Example:"
      ],
      "metadata": {
        "id": "9NLGfifM2OXa"
      }
    },
    {
      "cell_type": "code",
      "source": [
        "x = 5\n",
        "x = x + 1  # Reassign 'x' with a new value (6)"
      ],
      "metadata": {
        "id": "O-jvVd342VU0"
      },
      "execution_count": null,
      "outputs": []
    },
    {
      "cell_type": "markdown",
      "source": [
        "5. **Multiple Assignments:**\n",
        "Python allows you to assign multiple variables in a single line.\n",
        "\n",
        "Example:"
      ],
      "metadata": {
        "id": "1XUAGakB2Y7d"
      }
    },
    {
      "cell_type": "code",
      "source": [
        "a, b, c = 1, 2, 3"
      ],
      "metadata": {
        "id": "5Ad9SLCt2e8j"
      },
      "execution_count": null,
      "outputs": []
    },
    {
      "cell_type": "markdown",
      "source": [
        "6. **Variable Scope:**\n",
        "Variables can have local or global scope. A local variable is defined within a specific block of code, like a function, and is only accessible within that block. A global variable is defined outside any specific block and can be accessed from anywhere in the code.\n",
        "\n",
        "Example:"
      ],
      "metadata": {
        "id": "2llwwRbM2jEa"
      }
    },
    {
      "cell_type": "code",
      "source": [
        "global_var = 10  # Global variable\n",
        "\n",
        "def my_function():\n",
        "    local_var = 5  # Local variable\n",
        "    print(global_var)  # Access global variable\n",
        "\n",
        "my_function()"
      ],
      "metadata": {
        "id": "f3Mkbb6F2qWC",
        "outputId": "6ae888f7-6575-46ed-df2a-2377c00bc5cc",
        "colab": {
          "base_uri": "https://localhost:8080/"
        }
      },
      "execution_count": null,
      "outputs": [
        {
          "output_type": "stream",
          "name": "stdout",
          "text": [
            "10\n"
          ]
        }
      ]
    },
    {
      "cell_type": "markdown",
      "source": [
        "In this example, global_var is a global variable, and local_var is a local variable within the my_function scope."
      ],
      "metadata": {
        "id": "u-6ygrhV2uaV"
      }
    },
    {
      "cell_type": "markdown",
      "source": [
        "**Operators in Python**"
      ],
      "metadata": {
        "id": "Yyk8X2Ya0N_X"
      }
    },
    {
      "cell_type": "markdown",
      "source": [
        "In Python, operators are special symbols or keywords used to perform operations on operands. Operands can be variables, values, or expressions. Python supports a wide range of operators, which can be categorized into several types. Here, I'll explain some of the most common operators with examples:\n",
        "\n",
        "1. Arithmetic Operators: Used for mathematical calculations.Examples:"
      ],
      "metadata": {
        "id": "wtA6xpGT1RFW"
      }
    },
    {
      "cell_type": "code",
      "source": [
        "a = 10\n",
        "b = 5\n",
        "\n",
        "addition = a + b  # 15\n",
        "subtraction = a - b  # 5\n",
        "multiplication = a * b  # 50\n",
        "division = a / b  # 2.0\n",
        "modulus = a % b  # 0\n",
        "exponentiation = a ** b  # 100000\n",
        "floor_division = a // b  # 2"
      ],
      "metadata": {
        "id": "cFPO2bvL1vHI"
      },
      "execution_count": 1,
      "outputs": []
    },
    {
      "cell_type": "markdown",
      "source": [
        "The BODMAS rule, also known as the PEMDAS rule in some regions, is a set of rules used in mathematics to determine the order of operations in an arithmetic expression. BODMAS stands for:\n",
        "\n",
        "1. **B**rackets: Operations within parentheses or brackets are performed first.\n",
        "2. **O**rders (Exponents and Roots): Exponentiation (raising a number to a power) and root operations are performed next.\n",
        "3. **D**ivision and **M**ultiplication: Division and multiplication operations are performed from left to right.\n",
        "4. **A**ddition and **S**ubtraction: Finally, addition and subtraction operations are performed from left to right.\n",
        "\n",
        "In Python, the order of operations follows the BODMAS rule, which is the same as the PEMDAS rule. You can use parentheses to control the order of operations. Here are some examples:"
      ],
      "metadata": {
        "id": "nKnIqYQj2UhE"
      }
    },
    {
      "cell_type": "code",
      "source": [
        "result = 3 + 4 * 2  # First multiplication, then addition: 11\n",
        "result = (3 + 4) * 2  # First addition within parentheses, then multiplication: 14\n",
        "result = 3 + 4 ** 2  # First exponentiation, then addition: 19 (4 squared is 16)\n",
        "result = (3 + 4) / 2  # First addition within parentheses, then division: 3.5"
      ],
      "metadata": {
        "id": "Puxu9cnp2nDh"
      },
      "execution_count": 2,
      "outputs": []
    },
    {
      "cell_type": "markdown",
      "source": [
        "2. Comparison Operators: Used to compare values and return Boolean results (True or False).\n",
        "Examples:"
      ],
      "metadata": {
        "id": "cJcta0Wc3Puh"
      }
    },
    {
      "cell_type": "code",
      "source": [
        "x = 10\n",
        "y = 5\n",
        "\n",
        "equal = x == y  # False\n",
        "not_equal = x != y  # True\n",
        "greater_than = x > y  # True\n",
        "less_than = x < y  # False\n",
        "greater_equal = x >= y  # True\n",
        "less_equal = x <= y  # False"
      ],
      "metadata": {
        "id": "6s7D8EPr3VtA"
      },
      "execution_count": null,
      "outputs": []
    },
    {
      "cell_type": "markdown",
      "source": [
        "3. Logical Operators: Used for combining conditional statements.\n",
        "Examples:"
      ],
      "metadata": {
        "id": "8b1Bbg923e2i"
      }
    },
    {
      "cell_type": "code",
      "source": [
        "p = True # 1\n",
        "q = False # 0\n",
        "\n",
        "and_operator = p and q  # False\n",
        "or_operator = p or q  # True\n",
        "not_operator = not p  # False"
      ],
      "metadata": {
        "id": "-CDcaFme3rdz"
      },
      "execution_count": null,
      "outputs": []
    },
    {
      "cell_type": "markdown",
      "source": [
        "4. Assignment Operators: Used to assign values to variables.\n",
        "Examples:"
      ],
      "metadata": {
        "id": "fybqEs-r4EWh"
      }
    },
    {
      "cell_type": "code",
      "source": [
        "x = 10\n",
        "y = 5\n",
        "\n",
        "x += y  # Equivalent to x = x + y, x is now 15\n",
        "y -= 3  # Equivalent to y = y - 3, y is now 2\n",
        "x *= y  # Equivalent to x = x * y, x is now 30\n",
        "x /= y # Equivalent to x = x / y, x is now 15"
      ],
      "metadata": {
        "id": "qkfMwg1R4MkV"
      },
      "execution_count": 5,
      "outputs": []
    },
    {
      "cell_type": "markdown",
      "source": [
        "5. Bitwise Operators: Used for binary bitwise operations.\n",
        "Examples:"
      ],
      "metadata": {
        "id": "WApWXbGi5p1B"
      }
    },
    {
      "cell_type": "code",
      "source": [
        "a = 5  # 101 in binary\n",
        "b = 3  # 011 in binary\n",
        "\n",
        "bitwise_and = a & b  # 1 (001 in binary)\n",
        "bitwise_or = a | b  # 7 (111 in binary)\n",
        "bitwise_xor = a ^ b  # 6 (110 in binary)\n",
        "bitwise_not_a = ~a  # -6 (in two's complement form)\n",
        "left_shift = a << 2  # 20 (10100 in binary)\n",
        "right_shift = a >> 1  # 2 (10 in binary)"
      ],
      "metadata": {
        "id": "gJ_f5OMn5vlm"
      },
      "execution_count": null,
      "outputs": []
    },
    {
      "cell_type": "markdown",
      "source": [
        "6. Membership Operators: Used to test if a value is present in a sequence (like a list, tuple, or string).\n",
        "Examples:"
      ],
      "metadata": {
        "id": "Jc_g44GU5-NW"
      }
    },
    {
      "cell_type": "code",
      "source": [
        "my_list = [1, 2, 3, 4]\n",
        "\n",
        "in_operator = 2 in my_list  # True\n",
        "not_in_operator = 5 not in my_list  # True"
      ],
      "metadata": {
        "id": "hWzd5z9B6GcE"
      },
      "execution_count": 6,
      "outputs": []
    },
    {
      "cell_type": "markdown",
      "source": [
        "7. Identity Operators: Used to compare the memory locations of two objects.\n",
        "Examples:"
      ],
      "metadata": {
        "id": "21z8rG9b6cjV"
      }
    },
    {
      "cell_type": "code",
      "source": [
        "x = [1, 2, 3]\n",
        "y = x  # y references the same list as x\n",
        "\n",
        "is_operator = x is y  # True\n",
        "is_not_operator = x is not y  # False"
      ],
      "metadata": {
        "id": "oDTa-FkX6gFW"
      },
      "execution_count": null,
      "outputs": []
    },
    {
      "cell_type": "markdown",
      "source": [
        "8. Ternary Operator (Conditional Expression): A concise way to write if-else statements.\n",
        "Example:"
      ],
      "metadata": {
        "id": "GricIoud6j5b"
      }
    },
    {
      "cell_type": "code",
      "source": [
        "age = 20\n",
        "is_adult = True if age >= 18 else False"
      ],
      "metadata": {
        "id": "NTGwjUQE6sRi"
      },
      "execution_count": 7,
      "outputs": []
    },
    {
      "cell_type": "markdown",
      "source": [
        "**Indentation in Python**\n",
        "\n",
        "\n",
        "In Python, indentation refers to the use of whitespace (usually spaces or tabs) at the beginning of a line to indicate the structure and nesting of code. Python uses indentation to define code blocks and scope, such as loops, conditionals, functions, classes, and more. Indentation is not just for visual clarity but is a crucial part of the Python syntax.\n",
        "\n",
        "1. **Indentation Rules:**\n",
        "\n",
        "    Indentation is used to define a code block.\n",
        "\n",
        "    The indented lines belong to the block.\n",
        "\n",
        "    Blocks of code are usually defined after a colon (:), as seen in loops, conditionals, functions, and class definitions.\n",
        "\n",
        "    All lines in the same block must have the same level of indentation.\n",
        "\n",
        "    Subsequent nested blocks are indented further."
      ],
      "metadata": {
        "id": "F-q0tLRR2ycP"
      }
    }
  ]
}