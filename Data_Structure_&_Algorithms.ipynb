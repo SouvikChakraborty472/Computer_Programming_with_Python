{
  "nbformat": 4,
  "nbformat_minor": 0,
  "metadata": {
    "colab": {
      "provenance": [],
      "authorship_tag": "ABX9TyOz/riijkJH+cZtZFe86rLD",
      "include_colab_link": true
    },
    "kernelspec": {
      "name": "python3",
      "display_name": "Python 3"
    },
    "language_info": {
      "name": "python"
    }
  },
  "cells": [
    {
      "cell_type": "markdown",
      "metadata": {
        "id": "view-in-github",
        "colab_type": "text"
      },
      "source": [
        "<a href=\"https://colab.research.google.com/github/SouvikChakraborty472/Computer_Programming_with_Python/blob/main/Data_Structure_%26_Algorithms.ipynb\" target=\"_parent\"><img src=\"https://colab.research.google.com/assets/colab-badge.svg\" alt=\"Open In Colab\"/></a>"
      ]
    },
    {
      "cell_type": "markdown",
      "source": [
        "**Data Structure & Algorithms**"
      ],
      "metadata": {
        "id": "mkzXsIbYNhBz"
      }
    },
    {
      "cell_type": "markdown",
      "source": [
        "Data: -\n",
        "In the context of computer science and information technology, \"data\" refers to raw facts, figures, or information that are collected, stored, processed, and used to support various functions and tasks. Data can take many forms and can represent a wide range of information.\n",
        "\n",
        "Information: -\n",
        "Information refers to processed, organized, and meaningful data that has been analyzed and structured in a way that adds value and context. It is data that has been interpreted, understood, and is useful for decision-making or understanding a particular context."
      ],
      "metadata": {
        "id": "MFsqU4zVN9SX"
      }
    },
    {
      "cell_type": "markdown",
      "source": [
        "Data Structure: -\n",
        "A data structure is a fundamental concept in computer science and programming that refers to a way of organizing, storing, and managing data to facilitate efficient operations and access. Data structures provide a way to structure and organize data elements and enable various data manipulation and retrieval operations. They serve as the building blocks for designing and implementing algorithms and solving specific computational problems. Data structures are essential for optimizing the use of computer memory and improving the efficiency of data processing.\n",
        "\n",
        "Abstract Data Type: - An Abstract Data Type (ADT) is a high-level and abstract concept in computer science that defines a data structure's behavior in terms of the operations that can be performed on it, without specifying the underlying implementation details. It is a mathematical model or a set of rules that govern the behavior of a data structure, independent of any specific programming language or hardware."
      ],
      "metadata": {
        "id": "30HQsnEyuiDk"
      }
    }
  ]
}